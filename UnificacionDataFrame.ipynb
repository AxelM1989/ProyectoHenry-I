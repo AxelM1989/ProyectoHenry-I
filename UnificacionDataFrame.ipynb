{
 "cells": [
  {
   "cell_type": "code",
   "execution_count": 1,
   "metadata": {},
   "outputs": [],
   "source": [
    "import pandas as pd\n"
   ]
  },
  {
   "cell_type": "code",
   "execution_count": 30,
   "metadata": {},
   "outputs": [
    {
     "data": {
      "text/html": [
       "<div>\n",
       "<style scoped>\n",
       "    .dataframe tbody tr th:only-of-type {\n",
       "        vertical-align: middle;\n",
       "    }\n",
       "\n",
       "    .dataframe tbody tr th {\n",
       "        vertical-align: top;\n",
       "    }\n",
       "\n",
       "    .dataframe thead th {\n",
       "        text-align: right;\n",
       "    }\n",
       "</style>\n",
       "<table border=\"1\" class=\"dataframe\">\n",
       "  <thead>\n",
       "    <tr style=\"text-align: right;\">\n",
       "      <th></th>\n",
       "      <th>IdProducto</th>\n",
       "      <th>IdSucursal</th>\n",
       "      <th>Precio</th>\n",
       "    </tr>\n",
       "  </thead>\n",
       "  <tbody>\n",
       "    <tr>\n",
       "      <th>0</th>\n",
       "      <td>0000000001663</td>\n",
       "      <td>00021014</td>\n",
       "      <td>29.90</td>\n",
       "    </tr>\n",
       "    <tr>\n",
       "      <th>1</th>\n",
       "      <td>0000000002288</td>\n",
       "      <td>00021032</td>\n",
       "      <td>29.90</td>\n",
       "    </tr>\n",
       "    <tr>\n",
       "      <th>2</th>\n",
       "      <td>0000000002288</td>\n",
       "      <td>00021096</td>\n",
       "      <td>39.90</td>\n",
       "    </tr>\n",
       "    <tr>\n",
       "      <th>3</th>\n",
       "      <td>0000000205870</td>\n",
       "      <td>00091686</td>\n",
       "      <td>499.99</td>\n",
       "    </tr>\n",
       "    <tr>\n",
       "      <th>4</th>\n",
       "      <td>0000000205870</td>\n",
       "      <td>00092248</td>\n",
       "      <td>519.99</td>\n",
       "    </tr>\n",
       "    <tr>\n",
       "      <th>...</th>\n",
       "      <td>...</td>\n",
       "      <td>...</td>\n",
       "      <td>...</td>\n",
       "    </tr>\n",
       "    <tr>\n",
       "      <th>472161</th>\n",
       "      <td>9569753142128</td>\n",
       "      <td>00002511</td>\n",
       "      <td>139.99</td>\n",
       "    </tr>\n",
       "    <tr>\n",
       "      <th>472162</th>\n",
       "      <td>9795403001143</td>\n",
       "      <td>00002511</td>\n",
       "      <td>34.99</td>\n",
       "    </tr>\n",
       "    <tr>\n",
       "      <th>472163</th>\n",
       "      <td>9990385651922</td>\n",
       "      <td>00000513</td>\n",
       "      <td>312.50</td>\n",
       "    </tr>\n",
       "    <tr>\n",
       "      <th>472164</th>\n",
       "      <td>9990385651939</td>\n",
       "      <td>00000513</td>\n",
       "      <td>312.50</td>\n",
       "    </tr>\n",
       "    <tr>\n",
       "      <th>472165</th>\n",
       "      <td>9990385651946</td>\n",
       "      <td>00000513</td>\n",
       "      <td>198.90</td>\n",
       "    </tr>\n",
       "  </tbody>\n",
       "</table>\n",
       "<p>472166 rows × 3 columns</p>\n",
       "</div>"
      ],
      "text/plain": [
       "           IdProducto IdSucursal  Precio\n",
       "0       0000000001663   00021014   29.90\n",
       "1       0000000002288   00021032   29.90\n",
       "2       0000000002288   00021096   39.90\n",
       "3       0000000205870   00091686  499.99\n",
       "4       0000000205870   00092248  519.99\n",
       "...               ...        ...     ...\n",
       "472161  9569753142128   00002511  139.99\n",
       "472162  9795403001143   00002511   34.99\n",
       "472163  9990385651922   00000513  312.50\n",
       "472164  9990385651939   00000513  312.50\n",
       "472165  9990385651946   00000513  198.90\n",
       "\n",
       "[472166 rows x 3 columns]"
      ]
     },
     "execution_count": 30,
     "metadata": {},
     "output_type": "execute_result"
    }
   ],
   "source": [
    "df1=pd.read_csv(\"Semana1304.csv\")\n",
    "df1\n"
   ]
  },
  {
   "cell_type": "code",
   "execution_count": 32,
   "metadata": {},
   "outputs": [],
   "source": [
    "df1[\"Semana\"]=\"Semana1304\""
   ]
  },
  {
   "cell_type": "code",
   "execution_count": 63,
   "metadata": {},
   "outputs": [],
   "source": [
    "# Se realiza una función lambda que quite los \"-\" al IdProducto ya que dificulta la esteticidad \n",
    "# para las posteriores consultas tambien en las bases de datos.\n",
    "df1['IdProducto']=df1['IdProducto'].apply(lambda x: x.replace('-',''))"
   ]
  },
  {
   "cell_type": "code",
   "execution_count": 74,
   "metadata": {},
   "outputs": [],
   "source": [
    "# Se le agregan a la columna IdProducto los ceros a la izquierda que faltan para completar los 13 caracteres.\n",
    "df1[\"IdProducto\"]=df1[\"IdProducto\"].str.zfill(13)"
   ]
  },
  {
   "cell_type": "code",
   "execution_count": 34,
   "metadata": {},
   "outputs": [
    {
     "name": "stdout",
     "output_type": "stream",
     "text": [
      "<class 'pandas.core.frame.DataFrame'>\n",
      "RangeIndex: 472166 entries, 0 to 472165\n",
      "Data columns (total 4 columns):\n",
      " #   Column      Non-Null Count   Dtype  \n",
      "---  ------      --------------   -----  \n",
      " 0   IdProducto  472166 non-null  object \n",
      " 1   IdSucursal  472166 non-null  object \n",
      " 2   Precio      472166 non-null  float64\n",
      " 3   Semana      472166 non-null  object \n",
      "dtypes: float64(1), object(3)\n",
      "memory usage: 14.4+ MB\n"
     ]
    }
   ],
   "source": [
    "df1.info()"
   ]
  },
  {
   "cell_type": "code",
   "execution_count": 52,
   "metadata": {},
   "outputs": [
    {
     "name": "stderr",
     "output_type": "stream",
     "text": [
      "C:\\Users\\Usuario\\AppData\\Local\\Temp\\ipykernel_3296\\823881160.py:1: DtypeWarning: Columns (0) have mixed types. Specify dtype option on import or set low_memory=False.\n",
      "  df2=pd.read_csv(\"Semana1904.csv\")\n"
     ]
    },
    {
     "data": {
      "text/html": [
       "<div>\n",
       "<style scoped>\n",
       "    .dataframe tbody tr th:only-of-type {\n",
       "        vertical-align: middle;\n",
       "    }\n",
       "\n",
       "    .dataframe tbody tr th {\n",
       "        vertical-align: top;\n",
       "    }\n",
       "\n",
       "    .dataframe thead th {\n",
       "        text-align: right;\n",
       "    }\n",
       "</style>\n",
       "<table border=\"1\" class=\"dataframe\">\n",
       "  <thead>\n",
       "    <tr style=\"text-align: right;\">\n",
       "      <th></th>\n",
       "      <th>IdProducto</th>\n",
       "      <th>IdSucursal</th>\n",
       "      <th>Precio</th>\n",
       "    </tr>\n",
       "  </thead>\n",
       "  <tbody>\n",
       "    <tr>\n",
       "      <th>0</th>\n",
       "      <td>0000000002288</td>\n",
       "      <td>21184</td>\n",
       "      <td>29.90</td>\n",
       "    </tr>\n",
       "    <tr>\n",
       "      <th>1</th>\n",
       "      <td>0000000002288</td>\n",
       "      <td>21206</td>\n",
       "      <td>39.90</td>\n",
       "    </tr>\n",
       "    <tr>\n",
       "      <th>2</th>\n",
       "      <td>0000000020587</td>\n",
       "      <td>91430</td>\n",
       "      <td>499.99</td>\n",
       "    </tr>\n",
       "    <tr>\n",
       "      <th>3</th>\n",
       "      <td>0000000020587</td>\n",
       "      <td>92107</td>\n",
       "      <td>539.99</td>\n",
       "    </tr>\n",
       "    <tr>\n",
       "      <th>4</th>\n",
       "      <td>0000000020587</td>\n",
       "      <td>9035218</td>\n",
       "      <td>539.99</td>\n",
       "    </tr>\n",
       "    <tr>\n",
       "      <th>...</th>\n",
       "      <td>...</td>\n",
       "      <td>...</td>\n",
       "      <td>...</td>\n",
       "    </tr>\n",
       "    <tr>\n",
       "      <th>937447</th>\n",
       "      <td>9569753142128</td>\n",
       "      <td>2511</td>\n",
       "      <td>13999.00</td>\n",
       "    </tr>\n",
       "    <tr>\n",
       "      <th>937448</th>\n",
       "      <td>9795403001143</td>\n",
       "      <td>2511</td>\n",
       "      <td>3499.00</td>\n",
       "    </tr>\n",
       "    <tr>\n",
       "      <th>937449</th>\n",
       "      <td>9990385651922</td>\n",
       "      <td>513</td>\n",
       "      <td>3125.00</td>\n",
       "    </tr>\n",
       "    <tr>\n",
       "      <th>937450</th>\n",
       "      <td>9990385651939</td>\n",
       "      <td>513</td>\n",
       "      <td>3125.00</td>\n",
       "    </tr>\n",
       "    <tr>\n",
       "      <th>937451</th>\n",
       "      <td>9990385651946</td>\n",
       "      <td>513</td>\n",
       "      <td>1989.00</td>\n",
       "    </tr>\n",
       "  </tbody>\n",
       "</table>\n",
       "<p>937452 rows × 3 columns</p>\n",
       "</div>"
      ],
      "text/plain": [
       "           IdProducto  IdSucursal    Precio\n",
       "0       0000000002288       21184     29.90\n",
       "1       0000000002288       21206     39.90\n",
       "2       0000000020587       91430    499.99\n",
       "3       0000000020587       92107    539.99\n",
       "4       0000000020587     9035218    539.99\n",
       "...               ...         ...       ...\n",
       "937447  9569753142128        2511  13999.00\n",
       "937448  9795403001143        2511   3499.00\n",
       "937449  9990385651922         513   3125.00\n",
       "937450  9990385651939         513   3125.00\n",
       "937451  9990385651946         513   1989.00\n",
       "\n",
       "[937452 rows x 3 columns]"
      ]
     },
     "execution_count": 52,
     "metadata": {},
     "output_type": "execute_result"
    }
   ],
   "source": [
    "df2=pd.read_csv(\"Semana1904.csv\")\n",
    "df2"
   ]
  },
  {
   "cell_type": "code",
   "execution_count": 53,
   "metadata": {},
   "outputs": [],
   "source": [
    "df2[\"Semana\"]=\"Semana1904\""
   ]
  },
  {
   "cell_type": "code",
   "execution_count": 66,
   "metadata": {},
   "outputs": [],
   "source": [
    "# Se realiza una función lambda que quite los \"-\" al IdProducto ya que dificulta la esteticidad \n",
    "# para las posteriores consultas tambien en las bases de datos.\n",
    "df2['IdProducto']=df2['IdProducto'].astype(str).apply(lambda x: x.replace('-',''))"
   ]
  },
  {
   "cell_type": "code",
   "execution_count": 73,
   "metadata": {},
   "outputs": [],
   "source": [
    "# Se le agregan a la columna IdProducto los ceros a la izquierda que faltan para completar los 13 caracteres.\n",
    "df2[\"IdProducto\"]=df2[\"IdProducto\"].str.zfill(13)"
   ]
  },
  {
   "cell_type": "code",
   "execution_count": 55,
   "metadata": {},
   "outputs": [
    {
     "name": "stdout",
     "output_type": "stream",
     "text": [
      "<class 'pandas.core.frame.DataFrame'>\n",
      "RangeIndex: 937452 entries, 0 to 937451\n",
      "Data columns (total 4 columns):\n",
      " #   Column      Non-Null Count   Dtype  \n",
      "---  ------      --------------   -----  \n",
      " 0   IdProducto  937452 non-null  object \n",
      " 1   IdSucursal  937452 non-null  int64  \n",
      " 2   Precio      937452 non-null  float64\n",
      " 3   Semana      937452 non-null  object \n",
      "dtypes: float64(1), int64(1), object(2)\n",
      "memory usage: 28.6+ MB\n"
     ]
    }
   ],
   "source": [
    "df2.info()"
   ]
  },
  {
   "cell_type": "code",
   "execution_count": 37,
   "metadata": {},
   "outputs": [
    {
     "data": {
      "text/html": [
       "<div>\n",
       "<style scoped>\n",
       "    .dataframe tbody tr th:only-of-type {\n",
       "        vertical-align: middle;\n",
       "    }\n",
       "\n",
       "    .dataframe tbody tr th {\n",
       "        vertical-align: top;\n",
       "    }\n",
       "\n",
       "    .dataframe thead th {\n",
       "        text-align: right;\n",
       "    }\n",
       "</style>\n",
       "<table border=\"1\" class=\"dataframe\">\n",
       "  <thead>\n",
       "    <tr style=\"text-align: right;\">\n",
       "      <th></th>\n",
       "      <th>IdProducto</th>\n",
       "      <th>IdSucursal</th>\n",
       "      <th>Precio</th>\n",
       "    </tr>\n",
       "  </thead>\n",
       "  <tbody>\n",
       "    <tr>\n",
       "      <th>0</th>\n",
       "      <td>0000000002288</td>\n",
       "      <td>21187</td>\n",
       "      <td>29.90</td>\n",
       "    </tr>\n",
       "    <tr>\n",
       "      <th>1</th>\n",
       "      <td>0000000002288</td>\n",
       "      <td>23247</td>\n",
       "      <td>39.90</td>\n",
       "    </tr>\n",
       "    <tr>\n",
       "      <th>2</th>\n",
       "      <td>0000000205870</td>\n",
       "      <td>91685</td>\n",
       "      <td>499.99</td>\n",
       "    </tr>\n",
       "    <tr>\n",
       "      <th>3</th>\n",
       "      <td>0000000205870</td>\n",
       "      <td>9222</td>\n",
       "      <td>539.99</td>\n",
       "    </tr>\n",
       "    <tr>\n",
       "      <th>4</th>\n",
       "      <td>0000000205870</td>\n",
       "      <td>9259</td>\n",
       "      <td>519.99</td>\n",
       "    </tr>\n",
       "    <tr>\n",
       "      <th>...</th>\n",
       "      <td>...</td>\n",
       "      <td>...</td>\n",
       "      <td>...</td>\n",
       "    </tr>\n",
       "    <tr>\n",
       "      <th>397729</th>\n",
       "      <td>9569753142128</td>\n",
       "      <td>2511</td>\n",
       "      <td>139.99</td>\n",
       "    </tr>\n",
       "    <tr>\n",
       "      <th>397730</th>\n",
       "      <td>9795403001143</td>\n",
       "      <td>2511</td>\n",
       "      <td>34.99</td>\n",
       "    </tr>\n",
       "    <tr>\n",
       "      <th>397731</th>\n",
       "      <td>9990385651922</td>\n",
       "      <td>515</td>\n",
       "      <td>312.50</td>\n",
       "    </tr>\n",
       "    <tr>\n",
       "      <th>397732</th>\n",
       "      <td>9990385651939</td>\n",
       "      <td>515</td>\n",
       "      <td>312.50</td>\n",
       "    </tr>\n",
       "    <tr>\n",
       "      <th>397733</th>\n",
       "      <td>9990385651946</td>\n",
       "      <td>515</td>\n",
       "      <td>198.90</td>\n",
       "    </tr>\n",
       "  </tbody>\n",
       "</table>\n",
       "<p>397734 rows × 3 columns</p>\n",
       "</div>"
      ],
      "text/plain": [
       "           IdProducto  IdSucursal  Precio\n",
       "0       0000000002288       21187   29.90\n",
       "1       0000000002288       23247   39.90\n",
       "2       0000000205870       91685  499.99\n",
       "3       0000000205870        9222  539.99\n",
       "4       0000000205870        9259  519.99\n",
       "...               ...         ...     ...\n",
       "397729  9569753142128        2511  139.99\n",
       "397730  9795403001143        2511   34.99\n",
       "397731  9990385651922         515  312.50\n",
       "397732  9990385651939         515  312.50\n",
       "397733  9990385651946         515  198.90\n",
       "\n",
       "[397734 rows x 3 columns]"
      ]
     },
     "execution_count": 37,
     "metadata": {},
     "output_type": "execute_result"
    }
   ],
   "source": [
    "df3=pd.read_csv(\"Semana0305.csv\")\n",
    "df3"
   ]
  },
  {
   "cell_type": "code",
   "execution_count": 38,
   "metadata": {},
   "outputs": [],
   "source": [
    "df3[\"Semana\"]=\"Semana0305\""
   ]
  },
  {
   "cell_type": "code",
   "execution_count": 67,
   "metadata": {},
   "outputs": [],
   "source": [
    "# Se realiza una función lambda que quite los \"-\" al IdProducto ya que dificulta la esteticidad \n",
    "# para las posteriores consultas tambien en las bases de datos.\n",
    "df3['IdProducto']=df3['IdProducto'].apply(lambda x: x.replace('-',''))"
   ]
  },
  {
   "cell_type": "code",
   "execution_count": 72,
   "metadata": {},
   "outputs": [],
   "source": [
    "# Se le agregan a la columna IdProducto los ceros a la izquierda que faltan para completar los 13 caracteres.\n",
    "df3[\"IdProducto\"]=df3[\"IdProducto\"].str.zfill(13)"
   ]
  },
  {
   "cell_type": "code",
   "execution_count": 40,
   "metadata": {},
   "outputs": [
    {
     "name": "stdout",
     "output_type": "stream",
     "text": [
      "<class 'pandas.core.frame.DataFrame'>\n",
      "RangeIndex: 397734 entries, 0 to 397733\n",
      "Data columns (total 4 columns):\n",
      " #   Column      Non-Null Count   Dtype  \n",
      "---  ------      --------------   -----  \n",
      " 0   IdProducto  397734 non-null  object \n",
      " 1   IdSucursal  397734 non-null  int64  \n",
      " 2   Precio      397734 non-null  float64\n",
      " 3   Semana      397734 non-null  object \n",
      "dtypes: float64(1), int64(1), object(2)\n",
      "memory usage: 12.1+ MB\n"
     ]
    }
   ],
   "source": [
    "df3.info()"
   ]
  },
  {
   "cell_type": "code",
   "execution_count": 41,
   "metadata": {},
   "outputs": [
    {
     "data": {
      "text/html": [
       "<div>\n",
       "<style scoped>\n",
       "    .dataframe tbody tr th:only-of-type {\n",
       "        vertical-align: middle;\n",
       "    }\n",
       "\n",
       "    .dataframe tbody tr th {\n",
       "        vertical-align: top;\n",
       "    }\n",
       "\n",
       "    .dataframe thead th {\n",
       "        text-align: right;\n",
       "    }\n",
       "</style>\n",
       "<table border=\"1\" class=\"dataframe\">\n",
       "  <thead>\n",
       "    <tr style=\"text-align: right;\">\n",
       "      <th></th>\n",
       "      <th>IdProducto</th>\n",
       "      <th>IdSucursal</th>\n",
       "      <th>Precio</th>\n",
       "    </tr>\n",
       "  </thead>\n",
       "  <tbody>\n",
       "    <tr>\n",
       "      <th>0</th>\n",
       "      <td>0000000002288</td>\n",
       "      <td>21009</td>\n",
       "      <td>29.90</td>\n",
       "    </tr>\n",
       "    <tr>\n",
       "      <th>1</th>\n",
       "      <td>0000000002288</td>\n",
       "      <td>21037</td>\n",
       "      <td>32.90</td>\n",
       "    </tr>\n",
       "    <tr>\n",
       "      <th>2</th>\n",
       "      <td>0000000002288</td>\n",
       "      <td>21090</td>\n",
       "      <td>36.90</td>\n",
       "    </tr>\n",
       "    <tr>\n",
       "      <th>3</th>\n",
       "      <td>0000000002288</td>\n",
       "      <td>23247</td>\n",
       "      <td>39.90</td>\n",
       "    </tr>\n",
       "    <tr>\n",
       "      <th>4</th>\n",
       "      <td>0000000205870</td>\n",
       "      <td>91430</td>\n",
       "      <td>499.99</td>\n",
       "    </tr>\n",
       "    <tr>\n",
       "      <th>...</th>\n",
       "      <td>...</td>\n",
       "      <td>...</td>\n",
       "      <td>...</td>\n",
       "    </tr>\n",
       "    <tr>\n",
       "      <th>415288</th>\n",
       "      <td>9569753142128</td>\n",
       "      <td>2511</td>\n",
       "      <td>149.99</td>\n",
       "    </tr>\n",
       "    <tr>\n",
       "      <th>415289</th>\n",
       "      <td>9795403001143</td>\n",
       "      <td>2511</td>\n",
       "      <td>34.99</td>\n",
       "    </tr>\n",
       "    <tr>\n",
       "      <th>415290</th>\n",
       "      <td>9990385651922</td>\n",
       "      <td>514</td>\n",
       "      <td>312.50</td>\n",
       "    </tr>\n",
       "    <tr>\n",
       "      <th>415291</th>\n",
       "      <td>9990385651939</td>\n",
       "      <td>514</td>\n",
       "      <td>312.50</td>\n",
       "    </tr>\n",
       "    <tr>\n",
       "      <th>415292</th>\n",
       "      <td>9990385651946</td>\n",
       "      <td>514</td>\n",
       "      <td>198.90</td>\n",
       "    </tr>\n",
       "  </tbody>\n",
       "</table>\n",
       "<p>415293 rows × 3 columns</p>\n",
       "</div>"
      ],
      "text/plain": [
       "           IdProducto  IdSucursal  Precio\n",
       "0       0000000002288       21009   29.90\n",
       "1       0000000002288       21037   32.90\n",
       "2       0000000002288       21090   36.90\n",
       "3       0000000002288       23247   39.90\n",
       "4       0000000205870       91430  499.99\n",
       "...               ...         ...     ...\n",
       "415288  9569753142128        2511  149.99\n",
       "415289  9795403001143        2511   34.99\n",
       "415290  9990385651922         514  312.50\n",
       "415291  9990385651939         514  312.50\n",
       "415292  9990385651946         514  198.90\n",
       "\n",
       "[415293 rows x 3 columns]"
      ]
     },
     "execution_count": 41,
     "metadata": {},
     "output_type": "execute_result"
    }
   ],
   "source": [
    "df4=pd.read_csv(\"Semana1805.csv\")\n",
    "df4"
   ]
  },
  {
   "cell_type": "code",
   "execution_count": 42,
   "metadata": {},
   "outputs": [],
   "source": [
    "df4[\"Semana\"]=\"Semana1805\""
   ]
  },
  {
   "cell_type": "code",
   "execution_count": 69,
   "metadata": {},
   "outputs": [],
   "source": [
    "# Se realiza una función lambda que quite los \"-\" al IdProducto ya que dificulta la esteticidad \n",
    "# para las posteriores consultas tambien en las bases de datos.\n",
    "df4['IdProducto']=df4['IdProducto'].astype(str).apply(lambda x: x.replace('-',''))"
   ]
  },
  {
   "cell_type": "code",
   "execution_count": 71,
   "metadata": {},
   "outputs": [],
   "source": [
    "# Se le agregan a la columna IdProducto los ceros a la izquierda que faltan para completar los 13 caracteres.\n",
    "df4[\"IdProducto\"]=df4[\"IdProducto\"].str.zfill(13)"
   ]
  },
  {
   "cell_type": "code",
   "execution_count": 44,
   "metadata": {},
   "outputs": [
    {
     "name": "stdout",
     "output_type": "stream",
     "text": [
      "<class 'pandas.core.frame.DataFrame'>\n",
      "RangeIndex: 415293 entries, 0 to 415292\n",
      "Data columns (total 4 columns):\n",
      " #   Column      Non-Null Count   Dtype  \n",
      "---  ------      --------------   -----  \n",
      " 0   IdProducto  415287 non-null  object \n",
      " 1   IdSucursal  415293 non-null  int64  \n",
      " 2   Precio      415293 non-null  float64\n",
      " 3   Semana      415293 non-null  object \n",
      "dtypes: float64(1), int64(1), object(2)\n",
      "memory usage: 12.7+ MB\n"
     ]
    }
   ],
   "source": [
    "df4.info()"
   ]
  },
  {
   "cell_type": "code",
   "execution_count": 56,
   "metadata": {},
   "outputs": [
    {
     "data": {
      "text/html": [
       "<div>\n",
       "<style scoped>\n",
       "    .dataframe tbody tr th:only-of-type {\n",
       "        vertical-align: middle;\n",
       "    }\n",
       "\n",
       "    .dataframe tbody tr th {\n",
       "        vertical-align: top;\n",
       "    }\n",
       "\n",
       "    .dataframe thead th {\n",
       "        text-align: right;\n",
       "    }\n",
       "</style>\n",
       "<table border=\"1\" class=\"dataframe\">\n",
       "  <thead>\n",
       "    <tr style=\"text-align: right;\">\n",
       "      <th></th>\n",
       "      <th>IdProducto</th>\n",
       "      <th>IdSucursal</th>\n",
       "      <th>Precio</th>\n",
       "      <th>Semana</th>\n",
       "    </tr>\n",
       "  </thead>\n",
       "  <tbody>\n",
       "    <tr>\n",
       "      <th>0</th>\n",
       "      <td>0000000001663</td>\n",
       "      <td>00021014</td>\n",
       "      <td>29.90</td>\n",
       "      <td>Semana1304</td>\n",
       "    </tr>\n",
       "    <tr>\n",
       "      <th>1</th>\n",
       "      <td>0000000002288</td>\n",
       "      <td>00021032</td>\n",
       "      <td>29.90</td>\n",
       "      <td>Semana1304</td>\n",
       "    </tr>\n",
       "    <tr>\n",
       "      <th>2</th>\n",
       "      <td>0000000002288</td>\n",
       "      <td>00021096</td>\n",
       "      <td>39.90</td>\n",
       "      <td>Semana1304</td>\n",
       "    </tr>\n",
       "    <tr>\n",
       "      <th>3</th>\n",
       "      <td>0000000205870</td>\n",
       "      <td>00091686</td>\n",
       "      <td>499.99</td>\n",
       "      <td>Semana1304</td>\n",
       "    </tr>\n",
       "    <tr>\n",
       "      <th>4</th>\n",
       "      <td>0000000205870</td>\n",
       "      <td>00092248</td>\n",
       "      <td>519.99</td>\n",
       "      <td>Semana1304</td>\n",
       "    </tr>\n",
       "    <tr>\n",
       "      <th>...</th>\n",
       "      <td>...</td>\n",
       "      <td>...</td>\n",
       "      <td>...</td>\n",
       "      <td>...</td>\n",
       "    </tr>\n",
       "    <tr>\n",
       "      <th>2222640</th>\n",
       "      <td>9569753142128</td>\n",
       "      <td>2511</td>\n",
       "      <td>149.99</td>\n",
       "      <td>Semana1805</td>\n",
       "    </tr>\n",
       "    <tr>\n",
       "      <th>2222641</th>\n",
       "      <td>9795403001143</td>\n",
       "      <td>2511</td>\n",
       "      <td>34.99</td>\n",
       "      <td>Semana1805</td>\n",
       "    </tr>\n",
       "    <tr>\n",
       "      <th>2222642</th>\n",
       "      <td>9990385651922</td>\n",
       "      <td>514</td>\n",
       "      <td>312.50</td>\n",
       "      <td>Semana1805</td>\n",
       "    </tr>\n",
       "    <tr>\n",
       "      <th>2222643</th>\n",
       "      <td>9990385651939</td>\n",
       "      <td>514</td>\n",
       "      <td>312.50</td>\n",
       "      <td>Semana1805</td>\n",
       "    </tr>\n",
       "    <tr>\n",
       "      <th>2222644</th>\n",
       "      <td>9990385651946</td>\n",
       "      <td>514</td>\n",
       "      <td>198.90</td>\n",
       "      <td>Semana1805</td>\n",
       "    </tr>\n",
       "  </tbody>\n",
       "</table>\n",
       "<p>2222645 rows × 4 columns</p>\n",
       "</div>"
      ],
      "text/plain": [
       "            IdProducto IdSucursal  Precio      Semana\n",
       "0        0000000001663   00021014   29.90  Semana1304\n",
       "1        0000000002288   00021032   29.90  Semana1304\n",
       "2        0000000002288   00021096   39.90  Semana1304\n",
       "3        0000000205870   00091686  499.99  Semana1304\n",
       "4        0000000205870   00092248  519.99  Semana1304\n",
       "...                ...        ...     ...         ...\n",
       "2222640  9569753142128       2511  149.99  Semana1805\n",
       "2222641  9795403001143       2511   34.99  Semana1805\n",
       "2222642  9990385651922        514  312.50  Semana1805\n",
       "2222643  9990385651939        514  312.50  Semana1805\n",
       "2222644  9990385651946        514  198.90  Semana1805\n",
       "\n",
       "[2222645 rows x 4 columns]"
      ]
     },
     "execution_count": 56,
     "metadata": {},
     "output_type": "execute_result"
    }
   ],
   "source": [
    "PreciosSemana = pd.concat([df1,df2,df3,df4], axis=0, ignore_index=True)\n",
    "PreciosSemana"
   ]
  },
  {
   "cell_type": "code",
   "execution_count": 57,
   "metadata": {},
   "outputs": [
    {
     "name": "stdout",
     "output_type": "stream",
     "text": [
      "<class 'pandas.core.frame.DataFrame'>\n",
      "RangeIndex: 2222645 entries, 0 to 2222644\n",
      "Data columns (total 4 columns):\n",
      " #   Column      Dtype  \n",
      "---  ------      -----  \n",
      " 0   IdProducto  object \n",
      " 1   IdSucursal  object \n",
      " 2   Precio      float64\n",
      " 3   Semana      object \n",
      "dtypes: float64(1), object(3)\n",
      "memory usage: 67.8+ MB\n"
     ]
    }
   ],
   "source": [
    "PreciosSemana.info()"
   ]
  },
  {
   "cell_type": "code",
   "execution_count": 58,
   "metadata": {},
   "outputs": [
    {
     "name": "stdout",
     "output_type": "stream",
     "text": [
      "<class 'pandas.core.series.Series'>\n",
      "RangeIndex: 2222645 entries, 0 to 2222644\n",
      "Series name: Semana\n",
      "Non-Null Count    Dtype \n",
      "--------------    ----- \n",
      "2222645 non-null  object\n",
      "dtypes: object(1)\n",
      "memory usage: 17.0+ MB\n"
     ]
    }
   ],
   "source": [
    "PreciosSemana[\"Semana\"].info(\n",
    "    \n",
    ")"
   ]
  },
  {
   "cell_type": "code",
   "execution_count": 78,
   "metadata": {},
   "outputs": [],
   "source": [
    "# Se realiza una función lambda que quite los \"-\" al IdProducto ya que dificulta la esteticidad \n",
    "# para las posteriores consultas tambien en las bases de datos.\n",
    "PreciosSemana['IdProducto']=PreciosSemana['IdProducto'].astype(str).apply(lambda x: x.replace('-',''))"
   ]
  },
  {
   "cell_type": "code",
   "execution_count": 79,
   "metadata": {},
   "outputs": [],
   "source": [
    "# Se le agregan a la columna IdProducto los ceros a la izquierda que faltan para completar los 13 caracteres.\n",
    "PreciosSemana[\"IdProducto\"]=PreciosSemana[\"IdProducto\"].str.zfill(13)"
   ]
  },
  {
   "cell_type": "code",
   "execution_count": 80,
   "metadata": {},
   "outputs": [],
   "source": [
    "PreciosSemana.to_csv(\"PreciosSemana.csv\",index=False)"
   ]
  },
  {
   "cell_type": "code",
   "execution_count": 81,
   "metadata": {},
   "outputs": [],
   "source": [
    "PreciosSemana.to_csv(r\"C:\\ProgramData\\MySQL\\MySQL Server 8.0\\Uploads\\PreciosSemana.csv\",index=False)"
   ]
  }
 ],
 "metadata": {
  "kernelspec": {
   "display_name": "Python 3.10.7 64-bit",
   "language": "python",
   "name": "python3"
  },
  "language_info": {
   "codemirror_mode": {
    "name": "ipython",
    "version": 3
   },
   "file_extension": ".py",
   "mimetype": "text/x-python",
   "name": "python",
   "nbconvert_exporter": "python",
   "pygments_lexer": "ipython3",
   "version": "3.10.7"
  },
  "orig_nbformat": 4,
  "vscode": {
   "interpreter": {
    "hash": "c63d8c7d738c2960218a10995aedf0a7f67a49a231e71037adf0440953cdb45b"
   }
  }
 },
 "nbformat": 4,
 "nbformat_minor": 2
}
